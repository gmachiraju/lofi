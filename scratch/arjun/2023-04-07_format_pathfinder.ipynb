{
 "cells": [
  {
   "attachments": {},
   "cell_type": "markdown",
   "metadata": {},
   "source": [
    "# Format LRA Pathfinder\n",
    "The Long Range Arena (LRA) benchmark contains the PathFinder dataset. This dataset consists of images of paths (dashed lines). The task is to predict if two dots are connected by any of the paths in the image.\n",
    "\n",
    "This dataset is stored in a custom format that requires heavy dependencies (e.g. `tensorflow`).\n",
    "\n",
    "In this notebook, we will convert the dataset into a standardized format with Meerkat dataframes. This format will not require heavy dependenices, making it more ubiquitous than existing formats.\n",
    "\n",
    "**Reference:** https://github.com/google-research/long-range-arena/blob/main/lra_benchmarks/data/pathfinder.py"
   ]
  },
  {
   "cell_type": "code",
   "execution_count": 3,
   "metadata": {},
   "outputs": [],
   "source": [
    "import os\n",
    "import tensorflow as tf\n",
    "\n",
    "import meerkat as mk\n",
    "import pandas as pd\n",
    "\n",
    "pathfinder = \"pathfinder32\""
   ]
  },
  {
   "cell_type": "code",
   "execution_count": 4,
   "metadata": {},
   "outputs": [],
   "source": [
    "def extract_metadata(dirpath, base_path: str):\n",
    "    \"\"\"Extract the filepath and label from the metadata file.\n",
    "\n",
    "    Example metadata:\n",
    "        ['imgs/43', 'sample_0.png', '0', '0', '1.8', '6', '2.0', '5', '1.5', '2', '1']\n",
    "    \n",
    "    Args:\n",
    "        file_path: Path to the metadata file.\n",
    "    \"\"\"\n",
    "    metadata_dir = os.path.join(dirpath, \"metadata\")\n",
    "    image_paths = []\n",
    "    labels = []\n",
    "    for metadata_file in os.listdir(metadata_dir):\n",
    "        file_path = os.path.join(metadata_dir, metadata_file)\n",
    "        meta_examples = tf.io.read_file(file_path).numpy().decode('utf-8').split('\\n')[:-1]\n",
    "        for m_example in meta_examples:\n",
    "            m_example = m_example.split(' ')\n",
    "            image_paths.append(os.path.join(base_path, m_example[0], m_example[1]))\n",
    "            labels.append(int(m_example[3]))\n",
    "    return {\"path\": image_paths, \"label\": labels}"
   ]
  },
  {
   "cell_type": "code",
   "execution_count": 5,
   "metadata": {},
   "outputs": [],
   "source": [
    "difficulty = {\n",
    "    \"curv_baseline\": \"easy\",\n",
    "    \"curv_contour_length_9\": \"medium\",\n",
    "    \"curv_contour_length_14\": \"hard\",\n",
    "}\n",
    "pathfinder_path = os.path.join(mk.config.datasets.root_dir, \"lra_release\", \"lra_release\", pathfinder)"
   ]
  },
  {
   "cell_type": "code",
   "execution_count": 6,
   "metadata": {},
   "outputs": [
    {
     "ename": "FileNotFoundError",
     "evalue": "[Errno 2] No such file or directory: '/home/.meerkat/datasets/lra_release/lra_release/pathfinder32'",
     "output_type": "error",
     "traceback": [
      "\u001b[0;31m---------------------------------------------------------------------------\u001b[0m",
      "\u001b[0;31mFileNotFoundError\u001b[0m                         Traceback (most recent call last)",
      "Cell \u001b[0;32mIn[6], line 3\u001b[0m\n\u001b[1;32m      1\u001b[0m \u001b[39m# Format the metadata for each subfolder.\u001b[39;00m\n\u001b[1;32m      2\u001b[0m dfs \u001b[39m=\u001b[39m []\n\u001b[0;32m----> 3\u001b[0m \u001b[39mfor\u001b[39;00m subfolder \u001b[39min\u001b[39;00m os\u001b[39m.\u001b[39;49mlistdir(pathfinder_path):\n\u001b[1;32m      4\u001b[0m     dirpath \u001b[39m=\u001b[39m os\u001b[39m.\u001b[39mpath\u001b[39m.\u001b[39mjoin(pathfinder_path, subfolder, \u001b[39m\"\u001b[39m\u001b[39m\"\u001b[39m)\n\u001b[1;32m      5\u001b[0m     df \u001b[39m=\u001b[39m pd\u001b[39m.\u001b[39mDataFrame(extract_metadata(dirpath, base_path\u001b[39m=\u001b[39msubfolder))\n",
      "\u001b[0;31mFileNotFoundError\u001b[0m: [Errno 2] No such file or directory: '/home/.meerkat/datasets/lra_release/lra_release/pathfinder32'"
     ]
    }
   ],
   "source": [
    "# Format the metadata for each subfolder.\n",
    "dfs = []\n",
    "for subfolder in os.listdir(pathfinder_path):\n",
    "    dirpath = os.path.join(pathfinder_path, subfolder, \"\")\n",
    "    df = pd.DataFrame(extract_metadata(dirpath, base_path=subfolder))\n",
    "    df[\"subfolder\"] = subfolder\n",
    "    df[\"difficulty\"] = difficulty[subfolder]\n",
    "    dfs.append(df)\n",
    "\n",
    "# Concatenate the dataframes.\n",
    "df = pd.concat(dfs, axis=0)\n",
    "df_pd = df.reset_index(drop=True)"
   ]
  },
  {
   "cell_type": "code",
   "execution_count": 97,
   "metadata": {},
   "outputs": [],
   "source": [
    "df = mk.DataFrame.from_pandas(df_pd)\n",
    "df = df.drop(\"index\")\n",
    "# df[\"image\"] = mk.files(df[\"path\"], base_dir=os.path.join(mk.config.datasets.root_dir, \"lra_release\", \"lra_release\", pathfinder))"
   ]
  },
  {
   "attachments": {},
   "cell_type": "markdown",
   "metadata": {},
   "source": [
    "## Save the DataFrame\n",
    "We will save the dataframe and upload it to huggingface."
   ]
  },
  {
   "cell_type": "code",
   "execution_count": 98,
   "metadata": {},
   "outputs": [
    {
     "name": "stderr",
     "output_type": "stream",
     "text": [
      "/Users/arjundd/.meerkat/hf/pathfinder is already a clone of https://huggingface.co/datasets/meerkat-ml/pathfinder. Make sure you pull the latest changes with `repo.git_pull()`.\n"
     ]
    },
    {
     "data": {
      "text/html": [
       "<pre style=\"white-space:pre;overflow-x:auto;line-height:normal;font-family:Menlo,'DejaVu Sans Mono',consolas,'Courier New',monospace\"><span style=\"color: #7fbfbf; text-decoration-color: #7fbfbf\">[04/07/23 12:13:03] </span><span style=\"color: #800000; text-decoration-color: #800000\">WARNING </span> <span style=\"font-weight: bold\">[</span><span style=\"color: #800080; text-decoration-color: #800080; font-weight: bold\">clone_from</span><span style=\"font-weight: bold\">()]</span> <span style=\"font-weight: bold\">[</span>huggingface_hub.repository: <span style=\"color: #008080; text-decoration-color: #008080; font-weight: bold\">690</span><span style=\"font-weight: bold\">]</span> ::                  <a href=\"file:///Users/arjundd/miniconda3/envs/lofi_env/lib/python3.9/site-packages/huggingface_hub/repository.py\" target=\"_blank\"><span style=\"color: #7f7f7f; text-decoration-color: #7f7f7f\">repository.py</span></a><span style=\"color: #7f7f7f; text-decoration-color: #7f7f7f\">:</span><a href=\"file:///Users/arjundd/miniconda3/envs/lofi_env/lib/python3.9/site-packages/huggingface_hub/repository.py#690\" target=\"_blank\"><span style=\"color: #7f7f7f; text-decoration-color: #7f7f7f\">690</span></a>\n",
       "<span style=\"color: #7fbfbf; text-decoration-color: #7fbfbf\">                    </span>         <span style=\"color: #800080; text-decoration-color: #800080\">/Users/arjundd/.meerkat/hf/</span><span style=\"color: #ff00ff; text-decoration-color: #ff00ff\">pathfinder</span> is already a clone of          <span style=\"color: #7f7f7f; text-decoration-color: #7f7f7f\">                 </span>\n",
       "<span style=\"color: #7fbfbf; text-decoration-color: #7fbfbf\">                    </span>         <span style=\"color: #0000ff; text-decoration-color: #0000ff; text-decoration: underline\">https://huggingface.co/datasets/meerkat-ml/pathfinder.</span> Make sure you <span style=\"color: #7f7f7f; text-decoration-color: #7f7f7f\">                 </span>\n",
       "<span style=\"color: #7fbfbf; text-decoration-color: #7fbfbf\">                    </span>         pull the latest changes with `<span style=\"color: #800080; text-decoration-color: #800080; font-weight: bold\">repo.git_pull</span><span style=\"font-weight: bold\">()</span>`.                      <span style=\"color: #7f7f7f; text-decoration-color: #7f7f7f\">                 </span>\n",
       "</pre>\n"
      ],
      "text/plain": [
       "\u001b[2;36m[04/07/23 12:13:03]\u001b[0m\u001b[2;36m \u001b[0m\u001b[31mWARNING \u001b[0m \u001b[1m[\u001b[0m\u001b[1;35mclone_from\u001b[0m\u001b[1m(\u001b[0m\u001b[1m)\u001b[0m\u001b[1m]\u001b[0m \u001b[1m[\u001b[0mhuggingface_hub.repository: \u001b[1;36m690\u001b[0m\u001b[1m]\u001b[0m ::                  \u001b]8;id=707000;file:///Users/arjundd/miniconda3/envs/lofi_env/lib/python3.9/site-packages/huggingface_hub/repository.py\u001b\\\u001b[2mrepository.py\u001b[0m\u001b]8;;\u001b\\\u001b[2m:\u001b[0m\u001b]8;id=3106;file:///Users/arjundd/miniconda3/envs/lofi_env/lib/python3.9/site-packages/huggingface_hub/repository.py#690\u001b\\\u001b[2m690\u001b[0m\u001b]8;;\u001b\\\n",
       "\u001b[2;36m                    \u001b[0m         \u001b[35m/Users/arjundd/.meerkat/hf/\u001b[0m\u001b[95mpathfinder\u001b[0m is already a clone of          \u001b[2m                 \u001b[0m\n",
       "\u001b[2;36m                    \u001b[0m         \u001b[4;94mhttps://huggingface.co/datasets/meerkat-ml/pathfinder.\u001b[0m Make sure you \u001b[2m                 \u001b[0m\n",
       "\u001b[2;36m                    \u001b[0m         pull the latest changes with `\u001b[1;35mrepo.git_pull\u001b[0m\u001b[1m(\u001b[0m\u001b[1m)\u001b[0m`.                      \u001b[2m                 \u001b[0m\n"
      ]
     },
     "metadata": {},
     "output_type": "display_data"
    }
   ],
   "source": [
    "from huggingface_hub.repository import Repository\n",
    "_PATH = os.path.abspath(os.path.expanduser(\"~/.meerkat/hf/pathfinder-gen\"))\n",
    "_HF_PATH = os.path.abspath(os.path.expanduser(\"~/.meerkat/hf/pathfinder\"))\n",
    "\n",
    "path = str(_HF_PATH)\n",
    "repo = Repository(\n",
    "    local_dir=path,\n",
    "    clone_from=\"meerkat-ml/pathfinder\",\n",
    "    repo_type=\"dataset\",\n",
    ")\n",
    "\n",
    "repo.git_pull()\n"
   ]
  },
  {
   "cell_type": "code",
   "execution_count": 100,
   "metadata": {},
   "outputs": [
    {
     "data": {
      "text/html": [
       "<table border=\"1\" class=\"dataframe\">\n",
       "  <thead>\n",
       "    <tr style=\"text-align: right;\">\n",
       "      <th></th>\n",
       "      <th>path</th>\n",
       "      <th>label</th>\n",
       "      <th>subfolder</th>\n",
       "      <th>difficulty</th>\n",
       "    </tr>\n",
       "  </thead>\n",
       "  <tbody>\n",
       "    <tr>\n",
       "      <th>0</th>\n",
       "      <td>curv_baseline/imgs/121/sample_0.png</td>\n",
       "      <td>1</td>\n",
       "      <td>curv_baseline</td>\n",
       "      <td>easy</td>\n",
       "    </tr>\n",
       "    <tr>\n",
       "      <th>1</th>\n",
       "      <td>curv_baseline/imgs/121/sample_1.png</td>\n",
       "      <td>0</td>\n",
       "      <td>curv_baseline</td>\n",
       "      <td>easy</td>\n",
       "    </tr>\n",
       "    <tr>\n",
       "      <th>2</th>\n",
       "      <td>curv_baseline/imgs/121/sample_2.png</td>\n",
       "      <td>1</td>\n",
       "      <td>curv_baseline</td>\n",
       "      <td>easy</td>\n",
       "    </tr>\n",
       "    <tr>\n",
       "      <th>3</th>\n",
       "      <td>curv_baseline/imgs/121/sample_3.png</td>\n",
       "      <td>1</td>\n",
       "      <td>curv_baseline</td>\n",
       "      <td>easy</td>\n",
       "    </tr>\n",
       "    <tr>\n",
       "      <th>4</th>\n",
       "      <td>curv_baseline/imgs/121/sample_4.png</td>\n",
       "      <td>0</td>\n",
       "      <td>curv_baseline</td>\n",
       "      <td>easy</td>\n",
       "    </tr>\n",
       "    <tr>\n",
       "      <th>...</th>\n",
       "      <td>...</td>\n",
       "      <td>...</td>\n",
       "      <td>...</td>\n",
       "      <td>...</td>\n",
       "    </tr>\n",
       "    <tr>\n",
       "      <th>599995</th>\n",
       "      <td>curv_contour_length_14/imgs/138/sample_995.png</td>\n",
       "      <td>0</td>\n",
       "      <td>curv_contour_length_14</td>\n",
       "      <td>hard</td>\n",
       "    </tr>\n",
       "    <tr>\n",
       "      <th>599996</th>\n",
       "      <td>curv_contour_length_14/imgs/138/sample_996.png</td>\n",
       "      <td>1</td>\n",
       "      <td>curv_contour_length_14</td>\n",
       "      <td>hard</td>\n",
       "    </tr>\n",
       "    <tr>\n",
       "      <th>599997</th>\n",
       "      <td>curv_contour_length_14/imgs/138/sample_997.png</td>\n",
       "      <td>1</td>\n",
       "      <td>curv_contour_length_14</td>\n",
       "      <td>hard</td>\n",
       "    </tr>\n",
       "    <tr>\n",
       "      <th>599998</th>\n",
       "      <td>curv_contour_length_14/imgs/138/sample_998.png</td>\n",
       "      <td>0</td>\n",
       "      <td>curv_contour_length_14</td>\n",
       "      <td>hard</td>\n",
       "    </tr>\n",
       "    <tr>\n",
       "      <th>599999</th>\n",
       "      <td>curv_contour_length_14/imgs/138/sample_999.png</td>\n",
       "      <td>1</td>\n",
       "      <td>curv_contour_length_14</td>\n",
       "      <td>hard</td>\n",
       "    </tr>\n",
       "  </tbody>\n",
       "</table>"
      ],
      "text/plain": [
       "<IPython.core.display.HTML object>"
      ]
     },
     "metadata": {},
     "output_type": "display_data"
    }
   ],
   "source": [
    "out = os.path.join(_PATH, f\"{pathfinder}.mk\")\n",
    "df.write(out)"
   ]
  },
  {
   "cell_type": "code",
   "execution_count": 101,
   "metadata": {},
   "outputs": [
    {
     "data": {
      "application/vnd.jupyter.widget-view+json": {
       "model_id": "07efd576f3b34a95b92992c3c6fa6987",
       "version_major": 2,
       "version_minor": 0
      },
      "text/plain": [
       "Upload file pathfinder32.mk.tar.gz:   1%|          | 32.0k/3.51M [00:00<?, ?B/s]"
      ]
     },
     "metadata": {},
     "output_type": "display_data"
    },
    {
     "data": {
      "application/vnd.jupyter.widget-view+json": {
       "model_id": "aa6bc5e9436e4ae1874fae611abffd43",
       "version_major": 2,
       "version_minor": 0
      },
      "text/plain": [
       "Upload file pathfinder256.mk.tar.gz:   1%|          | 32.0k/3.51M [00:00<?, ?B/s]"
      ]
     },
     "metadata": {},
     "output_type": "display_data"
    },
    {
     "data": {
      "application/vnd.jupyter.widget-view+json": {
       "model_id": "91f78294a1dc4cecb3cb87b2e69ab234",
       "version_major": 2,
       "version_minor": 0
      },
      "text/plain": [
       "Upload file pathfinder128.mk.tar.gz:   1%|          | 32.0k/3.51M [00:00<?, ?B/s]"
      ]
     },
     "metadata": {},
     "output_type": "display_data"
    },
    {
     "data": {
      "application/vnd.jupyter.widget-view+json": {
       "model_id": "2a739341aa304db19ba425ccafee9532",
       "version_major": 2,
       "version_minor": 0
      },
      "text/plain": [
       "Upload file pathfinder64.mk.tar.gz:   1%|          | 32.0k/3.51M [00:00<?, ?B/s]"
      ]
     },
     "metadata": {},
     "output_type": "display_data"
    },
    {
     "name": "stderr",
     "output_type": "stream",
     "text": [
      "To https://huggingface.co/datasets/meerkat-ml/pathfinder\n",
      "   acf576b..d7e9cca  main -> main\n",
      "\n"
     ]
    },
    {
     "data": {
      "text/html": [
       "<pre style=\"white-space:pre;overflow-x:auto;line-height:normal;font-family:Menlo,'DejaVu Sans Mono',consolas,'Courier New',monospace\"><span style=\"color: #7fbfbf; text-decoration-color: #7fbfbf\">[04/07/23 12:15:49] </span><span style=\"color: #800000; text-decoration-color: #800000\">WARNING </span> <span style=\"font-weight: bold\">[</span><span style=\"color: #800080; text-decoration-color: #800080; font-weight: bold\">git_push</span><span style=\"font-weight: bold\">()]</span> <span style=\"font-weight: bold\">[</span>huggingface_hub.repository: <span style=\"color: #008080; text-decoration-color: #008080; font-weight: bold\">1096</span><span style=\"font-weight: bold\">]</span> :: To               <a href=\"file:///Users/arjundd/miniconda3/envs/lofi_env/lib/python3.9/site-packages/huggingface_hub/repository.py\" target=\"_blank\"><span style=\"color: #7f7f7f; text-decoration-color: #7f7f7f\">repository.py</span></a><span style=\"color: #7f7f7f; text-decoration-color: #7f7f7f\">:</span><a href=\"file:///Users/arjundd/miniconda3/envs/lofi_env/lib/python3.9/site-packages/huggingface_hub/repository.py#1096\" target=\"_blank\"><span style=\"color: #7f7f7f; text-decoration-color: #7f7f7f\">1096</span></a>\n",
       "<span style=\"color: #7fbfbf; text-decoration-color: #7fbfbf\">                    </span>         <span style=\"color: #0000ff; text-decoration-color: #0000ff; text-decoration: underline\">https://huggingface.co/datasets/meerkat-ml/pathfinder</span>               <span style=\"color: #7f7f7f; text-decoration-color: #7f7f7f\">                  </span>\n",
       "<span style=\"color: #7fbfbf; text-decoration-color: #7fbfbf\">                    </span>            acf576b..d7e9cca  main -&gt; main                                   <span style=\"color: #7f7f7f; text-decoration-color: #7f7f7f\">                  </span>\n",
       "<span style=\"color: #7fbfbf; text-decoration-color: #7fbfbf\">                    </span>                                                                             <span style=\"color: #7f7f7f; text-decoration-color: #7f7f7f\">                  </span>\n",
       "</pre>\n"
      ],
      "text/plain": [
       "\u001b[2;36m[04/07/23 12:15:49]\u001b[0m\u001b[2;36m \u001b[0m\u001b[31mWARNING \u001b[0m \u001b[1m[\u001b[0m\u001b[1;35mgit_push\u001b[0m\u001b[1m(\u001b[0m\u001b[1m)\u001b[0m\u001b[1m]\u001b[0m \u001b[1m[\u001b[0mhuggingface_hub.repository: \u001b[1;36m1096\u001b[0m\u001b[1m]\u001b[0m :: To               \u001b]8;id=120259;file:///Users/arjundd/miniconda3/envs/lofi_env/lib/python3.9/site-packages/huggingface_hub/repository.py\u001b\\\u001b[2mrepository.py\u001b[0m\u001b]8;;\u001b\\\u001b[2m:\u001b[0m\u001b]8;id=548762;file:///Users/arjundd/miniconda3/envs/lofi_env/lib/python3.9/site-packages/huggingface_hub/repository.py#1096\u001b\\\u001b[2m1096\u001b[0m\u001b]8;;\u001b\\\n",
       "\u001b[2;36m                    \u001b[0m         \u001b[4;94mhttps://huggingface.co/datasets/meerkat-ml/pathfinder\u001b[0m               \u001b[2m                  \u001b[0m\n",
       "\u001b[2;36m                    \u001b[0m            acf576b..d7e9cca  main -> main                                   \u001b[2m                  \u001b[0m\n",
       "\u001b[2;36m                    \u001b[0m                                                                             \u001b[2m                  \u001b[0m\n"
      ]
     },
     "metadata": {},
     "output_type": "display_data"
    },
    {
     "data": {
      "text/plain": [
       "'https://huggingface.co/datasets/meerkat-ml/pathfinder/commit/d7e9ccadc4adbf135cf246a6eac83489af80233e'"
      ]
     },
     "execution_count": 101,
     "metadata": {},
     "output_type": "execute_result"
    }
   ],
   "source": [
    "repo.push_to_hub(commit_message=\"Add pathfinder meerkat dataframes\")"
   ]
  },
  {
   "cell_type": "code",
   "execution_count": null,
   "metadata": {},
   "outputs": [],
   "source": []
  }
 ],
 "metadata": {
  "kernelspec": {
   "display_name": "lofi_env",
   "language": "python",
   "name": "python3"
  },
  "language_info": {
   "codemirror_mode": {
    "name": "ipython",
    "version": 3
   },
   "file_extension": ".py",
   "mimetype": "text/x-python",
   "name": "python",
   "nbconvert_exporter": "python",
   "pygments_lexer": "ipython3",
   "version": "3.10.9"
  },
  "orig_nbformat": 4
 },
 "nbformat": 4,
 "nbformat_minor": 2
}
